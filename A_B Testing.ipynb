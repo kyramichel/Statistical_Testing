{
 "cells": [
  {
   "cell_type": "markdown",
   "metadata": {},
   "source": [
    "### A/B Testing\n",
    "\n",
    "This notebook describes in simple terms the design and analysis of A/B testing  \n",
    "\n",
    "**Business applications**\n",
    "\n",
    "If you're running a business that takes online orders, you would likely want to understand if your webpage design is helping you reach your business outcomes. Measuring your results using A/B testing is the best way to find the answers to these type of questions. \n"
   ]
  },
  {
   "cell_type": "code",
   "execution_count": 13,
   "metadata": {},
   "outputs": [],
   "source": [
    "#imports\n",
    "\n",
    "import scipy\n",
    "from scipy import stats\n",
    "import scipy.stats as scs\n",
    "from scipy.stats import bernoulli\n",
    "import numpy as np\n",
    "import pandas as pd\n",
    "import seaborn as sns\n",
    "\n",
    "import matplotlib.pyplot as plt\n",
    "%matplotlib inline\n",
    "plt.style.use('ggplot')\n",
    "\n",
    "import warnings\n",
    "warnings.filterwarnings('ignore')"
   ]
  },
  {
   "cell_type": "markdown",
   "metadata": {},
   "source": [
    "## Business Problem\n",
    "\n",
    "\n",
    "A company decides to create a new version of their webpage in order to increase the number of people signing for their services through their website - simple alternatives such as: changing the look of a single button on a webpage or different layouts and headlines, etc. \n",
    "\n",
    "To determine which version of the webpage is more effective we will use A/B testing.\n",
    "\n",
    "A/B testing are randomized experiment with 2 variants, A and B using two-sample statistical hypothesis testing that allows to explain the outcomes. \n"
   ]
  },
  {
   "cell_type": "markdown",
   "metadata": {},
   "source": [
    "## Set up the experiment\n",
    "\n",
    "\n",
    "The company shows 1,000 people the old webpage (control group, denoted A) and to another 1,000 people the new webpage (test group, denoted B). It uses randomzed selection and assignment into the two groups. For example, when someone visits their website the site sends them to one of the two (A/B) webpages, and which one they are sent to is chosen at random.\n",
    "\n",
    "**Data summary**"
   ]
  },
  {
   "cell_type": "code",
   "execution_count": 8,
   "metadata": {},
   "outputs": [
    {
     "data": {
      "text/html": [
       "<div>\n",
       "<style scoped>\n",
       "    .dataframe tbody tr th:only-of-type {\n",
       "        vertical-align: middle;\n",
       "    }\n",
       "\n",
       "    .dataframe tbody tr th {\n",
       "        vertical-align: top;\n",
       "    }\n",
       "\n",
       "    .dataframe thead th {\n",
       "        text-align: right;\n",
       "    }\n",
       "</style>\n",
       "<table border=\"1\" class=\"dataframe\">\n",
       "  <thead>\n",
       "    <tr style=\"text-align: right;\">\n",
       "      <th></th>\n",
       "      <th>group</th>\n",
       "      <th>total</th>\n",
       "      <th>converted</th>\n",
       "    </tr>\n",
       "  </thead>\n",
       "  <tbody>\n",
       "    <tr>\n",
       "      <th>0</th>\n",
       "      <td>A</td>\n",
       "      <td>1000</td>\n",
       "      <td>490</td>\n",
       "    </tr>\n",
       "    <tr>\n",
       "      <th>1</th>\n",
       "      <td>B</td>\n",
       "      <td>1000</td>\n",
       "      <td>510</td>\n",
       "    </tr>\n",
       "  </tbody>\n",
       "</table>\n",
       "</div>"
      ],
      "text/plain": [
       "  group  total  converted\n",
       "0     A   1000        490\n",
       "1     B   1000        510"
      ]
     },
     "execution_count": 8,
     "metadata": {},
     "output_type": "execute_result"
    }
   ],
   "source": [
    "df = pd.DataFrame({\n",
    "    'group': ['A', 'B'],\n",
    "    'total': [1000, 1000],\n",
    "    'converted': [490, 510]\n",
    "})[['group', 'total', 'converted']]\n",
    "\n",
    "df"
   ]
  },
  {
   "cell_type": "code",
   "execution_count": 10,
   "metadata": {},
   "outputs": [
    {
     "data": {
      "text/html": [
       "<div>\n",
       "<style scoped>\n",
       "    .dataframe tbody tr th:only-of-type {\n",
       "        vertical-align: middle;\n",
       "    }\n",
       "\n",
       "    .dataframe tbody tr th {\n",
       "        vertical-align: top;\n",
       "    }\n",
       "\n",
       "    .dataframe thead th {\n",
       "        text-align: right;\n",
       "    }\n",
       "</style>\n",
       "<table border=\"1\" class=\"dataframe\">\n",
       "  <thead>\n",
       "    <tr style=\"text-align: right;\">\n",
       "      <th></th>\n",
       "      <th>group</th>\n",
       "      <th>total</th>\n",
       "      <th>converted</th>\n",
       "      <th>rate</th>\n",
       "    </tr>\n",
       "  </thead>\n",
       "  <tbody>\n",
       "    <tr>\n",
       "      <th>0</th>\n",
       "      <td>A</td>\n",
       "      <td>1000</td>\n",
       "      <td>490</td>\n",
       "      <td>0.49</td>\n",
       "    </tr>\n",
       "    <tr>\n",
       "      <th>1</th>\n",
       "      <td>B</td>\n",
       "      <td>1000</td>\n",
       "      <td>510</td>\n",
       "      <td>0.51</td>\n",
       "    </tr>\n",
       "  </tbody>\n",
       "</table>\n",
       "</div>"
      ],
      "text/plain": [
       "  group  total  converted  rate\n",
       "0     A   1000        490  0.49\n",
       "1     B   1000        510  0.51"
      ]
     },
     "execution_count": 10,
     "metadata": {},
     "output_type": "execute_result"
    }
   ],
   "source": [
    "df[\"rate\"] = df[\"converted\"]/1000\n",
    "\n",
    "df"
   ]
  },
  {
   "cell_type": "markdown",
   "metadata": {},
   "source": [
    "The estimated difference in success rates is given by the difference in proportions: \n",
    "\n",
    " - d_AB = p_B - p_A = 51 -49 = 2 %\n",
    "\n",
    "The observed difference between the two groups suggests that the new version converts better than the current one and we could go ahead with the new design. \n",
    "\n",
    "But, in order to make robust inferences based on a single sample requires the use of statistical testing."
   ]
  },
  {
   "cell_type": "markdown",
   "metadata": {},
   "source": [
    "## Understanding first the distribution of our data \n",
    "\n",
    "\n",
    "The distribution for each group A/B is a series of **Bernoulli trials**, where each trial has two possible outcomes 0 and 1 (1 converted, 0=not converted).\n",
    "\n",
    "\n",
    "#### The mean of Bernoulli distributions\n",
    "\n",
    "The expected value of Bernoulli random variables for groups A/B: \n",
    "\n",
    "E(X_A) = p_A * 1 + (1-p_A) * 0 = p_A\n",
    "\n",
    "E(X_B) = p_B * 1 + (1-p_B) * 0 = p_B\n",
    "\n",
    "The sample mean is the maximum likelihood estimator of p based on a random sample.\n",
    "\n",
    "For each group A and B, the signing up rates\n",
    "**p_A and p_N are the sample means.**\n",
    "\n",
    "#### The variance of Bernoulli distributions\n",
    "\n",
    "var_A = p_A*(1-p_A)\n",
    "\n",
    "var_B = p_B*(1-p_B)\n",
    "\n"
   ]
  },
  {
   "cell_type": "markdown",
   "metadata": {},
   "source": [
    "#### Sample means estimates of the true mean\n",
    "\n",
    "A natural question is as follows: how accurate is the observed difference in sample means?\n",
    "\n",
    "The average of such estimates over many datasets will be very close to the true value, but a single estimate may be a substantial underestimate or overestimate of it.\n",
    "\n",
    "How far off will the estimate of p_A or p_B be from the true mean? \n",
    "In general, we answer this question by computing the standard error."
   ]
  },
  {
   "cell_type": "markdown",
   "metadata": {},
   "source": [
    "#### Standard deviations of the sample means\n",
    "\n",
    "For samples larger than 30, the distribution of the sample means is approximately normally distributed around the true mean with a standard deviation equal to the standard error of the mean."
   ]
  },
  {
   "cell_type": "markdown",
   "metadata": {},
   "source": [
    "## Statistical inference\n",
    "\n",
    "We want to determine if the differences in signing up rates between A and B were statistically significant (that is, highly likely that the differences are real, repeatable, and not due to random chance)."
   ]
  },
  {
   "cell_type": "markdown",
   "metadata": {},
   "source": [
    "Suppose the contrary is true i.e., assume the null hypthesis H0: \"The two wepages'true success rates are equal.\" is true.\n",
    "\n",
    "### H0: p_A =  p_B   <= >  d_AB = 0\n",
    "\n",
    "\n",
    "Gather evidence to disprove the H0 hypothesis."
   ]
  },
  {
   "cell_type": "markdown",
   "metadata": {},
   "source": [
    "#### Drawing two random samples: \n",
    "\n",
    "We draw the random samples A and B from a normal distribution with the same variance and differing means of 49 and 51 respectively. \n",
    "\n",
    "We will expect the test to reject the null hypothesis and find a significant difference between the samples:"
   ]
  },
  {
   "cell_type": "code",
   "execution_count": 11,
   "metadata": {},
   "outputs": [],
   "source": [
    "# seed the random number generator\n",
    "np.random.seed(123)\n",
    "\n",
    "# generate two independent samples\n",
    "\n",
    "p_A, p_B = 49, 51 # sample means \n",
    "\n",
    "sigma = 5 # standard deviation\n",
    "\n",
    "dataA = np.random.normal(p_A, sigma, 1000)\n",
    "\n",
    "dataB = np.random.normal(p_B, sigma, 1000)"
   ]
  },
  {
   "cell_type": "code",
   "execution_count": 14,
   "metadata": {},
   "outputs": [
    {
     "data": {
      "text/plain": [
       "<matplotlib.axes._subplots.AxesSubplot at 0x14dbf108940>"
      ]
     },
     "execution_count": 14,
     "metadata": {},
     "output_type": "execute_result"
    },
    {
     "data": {
      "image/png": "[encoded data removed]",
      "text/plain": [
       "<Figure size 432x288 with 1 Axes>"
      ]
     },
     "metadata": {},
     "output_type": "display_data"
    }
   ],
   "source": [
    "#Visualize the data\n",
    "\n",
    "valueA = np.random.normal(loc=49,scale=5,size=1000)\n",
    "\n",
    "sns.distplot(valueA)\n"
   ]
  },
  {
   "cell_type": "markdown",
   "metadata": {},
   "source": [
    "Verify the mean and the variance:"
   ]
  },
  {
   "cell_type": "code",
   "execution_count": 15,
   "metadata": {},
   "outputs": [
    {
     "data": {
      "text/plain": [
       "True"
      ]
     },
     "execution_count": 15,
     "metadata": {},
     "output_type": "execute_result"
    }
   ],
   "source": [
    "abs(p_A - np.mean(dataA)) < 5"
   ]
  },
  {
   "cell_type": "code",
   "execution_count": 16,
   "metadata": {},
   "outputs": [
    {
     "data": {
      "text/plain": [
       "True"
      ]
     },
     "execution_count": 16,
     "metadata": {},
     "output_type": "execute_result"
    }
   ],
   "source": [
    "abs(p_B - np.mean(dataB)) < 5"
   ]
  },
  {
   "cell_type": "code",
   "execution_count": 17,
   "metadata": {},
   "outputs": [
    {
     "name": "stdout",
     "output_type": "stream",
     "text": [
      "[48.80217931959604, 51.041945836979366]\n"
     ]
    }
   ],
   "source": [
    "meanA = dataA.mean(axis=0)\n",
    "meanB = dataB.mean(axis=0)\n",
    "print([meanA,meanB])"
   ]
  },
  {
   "cell_type": "code",
   "execution_count": 18,
   "metadata": {},
   "outputs": [
    {
     "name": "stdout",
     "output_type": "stream",
     "text": [
      "[5.00644153446669, 4.792444597365098]\n"
     ]
    }
   ],
   "source": [
    "# calculate sample standard deviations\n",
    "s1, s2 = np.std(dataA, ddof=1), np.std(dataB, ddof=1)\n",
    "print([s1,s2])"
   ]
  },
  {
   "cell_type": "code",
   "execution_count": 19,
   "metadata": {},
   "outputs": [
    {
     "name": "stdout",
     "output_type": "stream",
     "text": [
      "[0.15831758221383116, 0.15155040487842295]\n"
     ]
    }
   ],
   "source": [
    "# calculate standard errors\n",
    "n1, n2 = len(dataA), len(dataB)\n",
    "se1, se2 = s1/np.sqrt(n1), s2/np.sqrt(n2)\n",
    "print([se1,se2])"
   ]
  },
  {
   "cell_type": "code",
   "execution_count": 20,
   "metadata": {},
   "outputs": [
    {
     "name": "stdout",
     "output_type": "stream",
     "text": [
      "[0.15831758221383116, 0.15155040487842295]\n"
     ]
    }
   ],
   "source": [
    "# Alternalively we can calculate se directly\n",
    "\n",
    "se1, se2 = scipy.stats.sem(dataA), scipy.stats.sem(dataB)\n",
    "print([se1,se2])"
   ]
  },
  {
   "cell_type": "markdown",
   "metadata": {},
   "source": [
    "### Analysis of variance (ANOVA)\n",
    "\n",
    "\n",
    "The problem of analysing the differences d_AB = p_B - p_A in signing up rates p_A and p_B between the two groups reduces to the analysis of variance of the differences among A/B group means in a sample.\n",
    "\n",
    "The analysis of variance has the following assumptions about the probability distribution of the responses:\n",
    "\n",
    "- Independence of observations – this is an assumption of the model that simplifies the statistical analysis.\n",
    "\n",
    "- Equality (or \"homogeneity\") of variances or homoscedasticity — the variance of data in groups is the same.\n",
    "\n",
    "- Normality assumption implies that statistical errors are independently, identically and normally distributed around zero with a standard deviation equal to the standard error of the mean.\n",
    "\n",
    "Generally, ANOVA is difficult to teach, however in our case, where we used a randomzied balanced experimental design where the two groups A and B have the same number of observations, the randomization-based analysis reduces to t-statistical testing.\n",
    "\n",
    "\n",
    "T-tests are used effectively when estimating the mean of a normally distributed population in situations where the population standard deviation is unknown."
   ]
  },
  {
   "cell_type": "markdown",
   "metadata": {},
   "source": [
    "###  Independent 2-samples t-test\n",
    "\n",
    "\n",
    "Using the t-test to assess the statistical significance of the difference between the two sample means p_A and p_B.\n",
    "\n",
    "The t-test allows to assign a probability level to describe the likelihood that H0 is true. \n",
    "\n",
    "\n"
   ]
  },
  {
   "cell_type": "markdown",
   "metadata": {},
   "source": [
    "\n",
    "#### t-distribution\n",
    "\n",
    "\n",
    "Under H0 assumption and n large we expect that the t-stats will have a t-distribution with N − 2 = 1998 degrees of freedom."
   ]
  },
  {
   "cell_type": "code",
   "execution_count": 28,
   "metadata": {},
   "outputs": [
    {
     "data": {
      "text/plain": [
       "Text(0.5, 1.0, 'PDF for t distribution with df=N_A + N_B - 2')"
      ]
     },
     "execution_count": 28,
     "metadata": {},
     "output_type": "execute_result"
    },
    {
     "data": {
      "image/png": "[encoded data removed]",
      "text/plain": [
       "<Figure size 432x288 with 1 Axes>"
      ]
     },
     "metadata": {},
     "output_type": "display_data"
    }
   ],
   "source": [
    "t_dist = scipy.stats.t(1998)\n",
    "\n",
    "t_values = np.linspace(-4, 4, 100)\n",
    "plt.plot(t_values, t_dist.pdf(t_values))\n",
    "\n",
    "plt.xlabel('t value')\n",
    "plt.ylabel('probability for t value')\n",
    "plt.title('PDF for t distribution with df=N_A + N_B - 2')\n"
   ]
  },
  {
   "cell_type": "markdown",
   "metadata": {},
   "source": [
    "#### T-statistics \n",
    "\n",
    " measures the number of standard deviations the difference in signup rates is away from 0\n",
    "\n",
    "- t = (p_A - p_B) /s_pooled\n",
    "\n",
    "The denominator of t is the standard error of the difference between two means p_A and p_B\n",
    "\n",
    "- se_pooled = np.sqrt(var_pooled)*np.sqrt(2/N_A) \n",
    "\n",
    "where var_pooled is the pooled variance.\n"
   ]
  },
  {
   "cell_type": "code",
   "execution_count": 22,
   "metadata": {},
   "outputs": [
    {
     "name": "stdout",
     "output_type": "stream",
     "text": [
      "[-10.219684624829402, 6.2094257811600204e-24]\n"
     ]
    }
   ],
   "source": [
    "#We can calculate the t statistic directly:\n",
    "\n",
    "t_stats, p_value = stats.ttest_ind(dataA, dataB)\n",
    "print([t_stats, p_value])"
   ]
  },
  {
   "cell_type": "code",
   "execution_count": 23,
   "metadata": {},
   "outputs": [
    {
     "data": {
      "text/plain": [
       "Ttest_indResult(statistic=-10.219684624829402, pvalue=6.224826345285404e-24)"
      ]
     },
     "execution_count": 23,
     "metadata": {},
     "output_type": "execute_result"
    }
   ],
   "source": [
    "#We can also specify non equal variance:\n",
    "\n",
    "stats.ttest_ind(dataA, dataB, equal_var = False)"
   ]
  },
  {
   "cell_type": "code",
   "execution_count": 24,
   "metadata": {},
   "outputs": [
    {
     "name": "stdout",
     "output_type": "stream",
     "text": [
      "-10.219684624829402\n"
     ]
    }
   ],
   "source": [
    "# Alternatively, we can calculate the t statistic manually\n",
    "\n",
    "# standard error on the difference between the samples\n",
    "sed = np.sqrt(se1**2.0 + se2**2.0)\n",
    "\n",
    "t_stat = (meanA - meanB) / sed\n",
    "print(t_stat)"
   ]
  },
  {
   "cell_type": "markdown",
   "metadata": {},
   "source": [
    "##### p-value\n",
    "\n",
    "\n",
    "To estimate the p-value manualy it is a simple matter of computing the probability of observing any value equal to |t| or larger, assuming that H0 is true. Then consult a t-table or t-calculator http://www.ttable.org/student-t-value-calculator.html\n",
    "\n",
    "In general, if t-statistics is large and the p-value small, the likelihood of seeing such values of the estimates if H0 is true (ie due to chance) are virtually zero.\n",
    "\n",
    "\n",
    "\n",
    "Typical p-value cutoffs for rejecting the null hypothesis are 5 or 1%."
   ]
  },
  {
   "cell_type": "code",
   "execution_count": 25,
   "metadata": {},
   "outputs": [
    {
     "name": "stdout",
     "output_type": "stream",
     "text": [
      "Reject the null hypothesis that the two wepages true success rates are equal.\n"
     ]
    }
   ],
   "source": [
    "# interpret via p-value\n",
    "\n",
    "alpha = 0.01\n",
    "if p_value > alpha:\n",
    "    print('Accept null hypothesis that the two wepages true success rates are equal.')\n",
    "else:\n",
    "    print('Reject the null hypothesis that the two wepages true success rates are equal.')"
   ]
  },
  {
   "cell_type": "markdown",
   "metadata": {},
   "source": [
    "\n",
    "### Interpretation:\n",
    "\n",
    "Because this likelihood (calculated using the t-test p-value)  is smaller than 0.01, we reject H0 and infer that the observed difference in signup rates is real with a confidence of 99%. For all intents and purposes this is a pretty reliable test.\n",
    "\n",
    "### Summary\n",
    "\n",
    "Using A/B testing we were able to make statistical inferences about the differences in signups for variations in the webpage design based on two samples. \n"
   ]
  }
 ],
 "metadata": {
  "kernelspec": {
   "display_name": "Python 3",
   "language": "python",
   "name": "python3"
  },
  "language_info": {
   "codemirror_mode": {
    "name": "ipython",
    "version": 3
   },
   "file_extension": ".py",
   "mimetype": "text/x-python",
   "name": "python",
   "nbconvert_exporter": "python",
   "pygments_lexer": "ipython3",
   "version": "3.7.3"
  }
 },
 "nbformat": 4,
 "nbformat_minor": 2
}
