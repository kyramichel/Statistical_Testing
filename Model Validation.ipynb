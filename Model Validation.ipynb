{
 "cells": [
  {
   "cell_type": "markdown",
   "id": "567e5162",
   "metadata": {},
   "source": [
    "# Better decisions require Better models. \n",
    "\n",
    "\n",
    "## Leaders in decision-making\n",
    "\n",
    "Decision-making is complex. Making decisions under uncertainty or complex scenarios e.g., involving valuations and/or risk management in real time require building reliable models.\n",
    "\n",
    "\n",
    "## 1st Step: Testing model assumptions\n",
    "\n",
    "As all models have assumptions, it's important to test model assumptions!\n",
    " \n",
    "In finance, for example, a typical model assumption is: \"Volatility of stock prices  = constant.\"\n",
    "\n",
    "To find evidence that the volatility of stock prices is far from being constant, we will pick up a stock, say AAPL, and analyze historical stock price information to see how volatility fluctuates over time. \n",
    "\n",
    "Using data science tools it's easier to test model assumptions. Results are visualized graphically.\n"
   ]
  },
  {
   "cell_type": "code",
   "execution_count": 1,
   "id": "e896bb90",
   "metadata": {},
   "outputs": [],
   "source": [
    "#imports\n",
    "\n",
    "import pandas as pd\n",
    "import numpy as np\n",
    "import math\n",
    "import matplotlib.pyplot as plt\n",
    "\n",
    "\n",
    "\n",
    "import warnings\n",
    "warnings.filterwarnings('ignore')"
   ]
  },
  {
   "cell_type": "markdown",
   "id": "2bc50917",
   "metadata": {},
   "source": [
    "### Getting stocks data from Yahoo\n",
    "\n",
    "- We are using yfinance to download stock data - the library is useful for Financial Data Analysis\n"
   ]
  },
  {
   "cell_type": "code",
   "execution_count": 2,
   "id": "5bef82f9",
   "metadata": {},
   "outputs": [],
   "source": [
    "# pip install yfinance\n",
    "\n",
    "import yfinance as yf"
   ]
  },
  {
   "cell_type": "code",
   "execution_count": 4,
   "id": "51223350",
   "metadata": {},
   "outputs": [
    {
     "name": "stdout",
     "output_type": "stream",
     "text": [
      "[*********************100%***********************]  1 of 1 completed\n"
     ]
    }
   ],
   "source": [
    "apple = yf.download(\"AAPL\", start=\"2016-07-20\", end=\"2021-07-20\")"
   ]
  },
  {
   "cell_type": "code",
   "execution_count": 5,
   "id": "d1af0ab2",
   "metadata": {},
   "outputs": [
    {
     "data": {
      "text/html": [
       "<div>\n",
       "<style scoped>\n",
       "    .dataframe tbody tr th:only-of-type {\n",
       "        vertical-align: middle;\n",
       "    }\n",
       "\n",
       "    .dataframe tbody tr th {\n",
       "        vertical-align: top;\n",
       "    }\n",
       "\n",
       "    .dataframe thead th {\n",
       "        text-align: right;\n",
       "    }\n",
       "</style>\n",
       "<table border=\"1\" class=\"dataframe\">\n",
       "  <thead>\n",
       "    <tr style=\"text-align: right;\">\n",
       "      <th></th>\n",
       "      <th>Open</th>\n",
       "      <th>High</th>\n",
       "      <th>Low</th>\n",
       "      <th>Close</th>\n",
       "      <th>Adj Close</th>\n",
       "      <th>Volume</th>\n",
       "    </tr>\n",
       "    <tr>\n",
       "      <th>Date</th>\n",
       "      <th></th>\n",
       "      <th></th>\n",
       "      <th></th>\n",
       "      <th></th>\n",
       "      <th></th>\n",
       "      <th></th>\n",
       "    </tr>\n",
       "  </thead>\n",
       "  <tbody>\n",
       "    <tr>\n",
       "      <th>2021-07-13</th>\n",
       "      <td>144.029999</td>\n",
       "      <td>147.460007</td>\n",
       "      <td>143.630005</td>\n",
       "      <td>145.639999</td>\n",
       "      <td>145.422119</td>\n",
       "      <td>100827100</td>\n",
       "    </tr>\n",
       "    <tr>\n",
       "      <th>2021-07-14</th>\n",
       "      <td>148.100006</td>\n",
       "      <td>149.570007</td>\n",
       "      <td>147.679993</td>\n",
       "      <td>149.149994</td>\n",
       "      <td>148.926865</td>\n",
       "      <td>127050800</td>\n",
       "    </tr>\n",
       "    <tr>\n",
       "      <th>2021-07-15</th>\n",
       "      <td>149.240005</td>\n",
       "      <td>150.000000</td>\n",
       "      <td>147.089996</td>\n",
       "      <td>148.479996</td>\n",
       "      <td>148.257874</td>\n",
       "      <td>106820300</td>\n",
       "    </tr>\n",
       "    <tr>\n",
       "      <th>2021-07-16</th>\n",
       "      <td>148.460007</td>\n",
       "      <td>149.759995</td>\n",
       "      <td>145.880005</td>\n",
       "      <td>146.389999</td>\n",
       "      <td>146.170990</td>\n",
       "      <td>93251400</td>\n",
       "    </tr>\n",
       "    <tr>\n",
       "      <th>2021-07-19</th>\n",
       "      <td>143.750000</td>\n",
       "      <td>144.070007</td>\n",
       "      <td>141.669998</td>\n",
       "      <td>142.449997</td>\n",
       "      <td>142.236893</td>\n",
       "      <td>121434600</td>\n",
       "    </tr>\n",
       "  </tbody>\n",
       "</table>\n",
       "</div>"
      ],
      "text/plain": [
       "                  Open        High         Low       Close   Adj Close  \\\n",
       "Date                                                                     \n",
       "2021-07-13  144.029999  147.460007  143.630005  145.639999  145.422119   \n",
       "2021-07-14  148.100006  149.570007  147.679993  149.149994  148.926865   \n",
       "2021-07-15  149.240005  150.000000  147.089996  148.479996  148.257874   \n",
       "2021-07-16  148.460007  149.759995  145.880005  146.389999  146.170990   \n",
       "2021-07-19  143.750000  144.070007  141.669998  142.449997  142.236893   \n",
       "\n",
       "               Volume  \n",
       "Date                   \n",
       "2021-07-13  100827100  \n",
       "2021-07-14  127050800  \n",
       "2021-07-15  106820300  \n",
       "2021-07-16   93251400  \n",
       "2021-07-19  121434600  "
      ]
     },
     "execution_count": 5,
     "metadata": {},
     "output_type": "execute_result"
    }
   ],
   "source": [
    "apple.tail()"
   ]
  },
  {
   "cell_type": "markdown",
   "id": "af083793",
   "metadata": {},
   "source": [
    "### Visualizing the stock prices"
   ]
  },
  {
   "cell_type": "code",
   "execution_count": 6,
   "id": "f5ae0f55",
   "metadata": {},
   "outputs": [
    {
     "data": {
      "text/plain": [
       "<AxesSubplot:xlabel='Date'>"
      ]
     },
     "execution_count": 6,
     "metadata": {},
     "output_type": "execute_result"
    },
    {
     "data": {
      "image/png": "[encoded data removed]",
      "text/plain": [
       "<Figure size 432x288 with 1 Axes>"
      ]
     },
     "metadata": {
      "needs_background": "light"
     },
     "output_type": "display_data"
    }
   ],
   "source": [
    "apple['Close'].plot()"
   ]
  },
  {
   "cell_type": "markdown",
   "id": "1b10f367",
   "metadata": {},
   "source": [
    "## Volatility\n",
    "\n",
    "\n",
    "Volatility = a statistical measure of the dispersion of returns \n",
    "that represents how large stock prices vary around the mean price\n",
    "\n",
    "Volatility measures the degree of variation of a stock price over time. It is used to characterize risk (uncertainty) of a stock price (risk refers to the probability distribution of returns)\n",
    "\n",
    "\n",
    "Volatility can be calculated using standard deviation of logarithmic returns, beta coefficients or option pricing models:"
   ]
  },
  {
   "cell_type": "markdown",
   "id": "09b20ab4",
   "metadata": {},
   "source": [
    "### Log-returns "
   ]
  },
  {
   "cell_type": "code",
   "execution_count": 7,
   "id": "49d521af",
   "metadata": {},
   "outputs": [],
   "source": [
    "# Calculating the log-returns\n",
    "apple['log_returns'] = np.log(apple['Close']/apple['Close'].shift(1))"
   ]
  },
  {
   "cell_type": "code",
   "execution_count": 8,
   "id": "1066db1e",
   "metadata": {},
   "outputs": [
    {
     "data": {
      "text/plain": [
       "Text(0, 0.5, 'frequency of log returns')"
      ]
     },
     "execution_count": 8,
     "metadata": {},
     "output_type": "execute_result"
    },
    {
     "data": {
      "image/png": "[encoded data removed]",
      "text/plain": [
       "<Figure size 432x288 with 1 Axes>"
      ]
     },
     "metadata": {
      "needs_background": "light"
     },
     "output_type": "display_data"
    }
   ],
   "source": [
    "apple['log_returns'].hist(bins=50, alpha=0.6)\n",
    "plt.xlabel('log returns')\n",
    "plt.ylabel('frequency of log returns')\n"
   ]
  },
  {
   "cell_type": "markdown",
   "id": "bb36e082",
   "metadata": {},
   "source": [
    "###  Lognormal Model for Stock Prices\n",
    "\n",
    "\n",
    "- Stock prices move in an exponential way over time and seem to follow a lognormal distribution. \n",
    "\n",
    "If prices are assumed to be lognormal distributed, then log of prices follow a normal distribution.\n",
    " \n",
    "Lognormal distribution is the one of the assumptions used in the Black Scholes model of option pricing.\n",
    "\n",
    "\n",
    "- Return (%change in price) is better for modeling stock prices as it gives a better overall of the returns.\n",
    "\n",
    "\n",
    "Daily (or monthly/quarterly) returns have a lot of noise; returns over a longer period (yearly) is more meaningful when evaluating investments. \n",
    "\n",
    "- Log-returns are better than simple returns.\n",
    "\n",
    "Log returns have the advantage that they can be added across time periods.\n",
    "\n",
    "\n",
    "- Logarithm is linked to compounding\n",
    "\n",
    "Stock prices are assumed to be continuously compounded since they respond almost instantly to changes in the demand & supply. \n",
    "\n",
    "Price of the stock being continuously compounded can be added across time. \n",
    "\n",
    "This approximation (and BS model assumption) is a desirable mathematical property \n",
    "and not necessarily the reality. \n",
    "\n",
    "- The limits to compounding\n",
    "\n",
    "Money do not move continuously. There is a ceiling to the compounding phenomenon, even when compounding occurs at an infinite amount/times.\n",
    "\n",
    "More on \"magic of compounding\" \n",
    "@ https://youtu.be/6CQZsEDt6Zw\n",
    "\n"
   ]
  },
  {
   "cell_type": "markdown",
   "id": "8e7d1327",
   "metadata": {},
   "source": [
    "### Yearly Volatility\n",
    "\n",
    "There are 252 trading days in a year\n",
    "\n",
    "\n",
    "Yearly volatility is calculated using moving standard deviation * sqrt(252):"
   ]
  },
  {
   "cell_type": "code",
   "execution_count": 9,
   "id": "f867df76",
   "metadata": {},
   "outputs": [],
   "source": [
    "apple['volatility'] = apple['log_returns'].rolling(252).std() * np.sqrt(252)"
   ]
  },
  {
   "cell_type": "code",
   "execution_count": 10,
   "id": "31542431",
   "metadata": {},
   "outputs": [
    {
     "data": {
      "text/plain": [
       "<AxesSubplot:xlabel='Date'>"
      ]
     },
     "execution_count": 10,
     "metadata": {},
     "output_type": "execute_result"
    },
    {
     "data": {
      "image/png": "[encoded data removed]",
      "text/plain": [
       "<Figure size 432x288 with 1 Axes>"
      ]
     },
     "metadata": {
      "needs_background": "light"
     },
     "output_type": "display_data"
    }
   ],
   "source": [
    "apple['volatility'].plot()"
   ]
  }
 ],
 "metadata": {
  "kernelspec": {
   "display_name": "Python 3",
   "language": "python",
   "name": "python3"
  },
  "language_info": {
   "codemirror_mode": {
    "name": "ipython",
    "version": 3
   },
   "file_extension": ".py",
   "mimetype": "text/x-python",
   "name": "python",
   "nbconvert_exporter": "python",
   "pygments_lexer": "ipython3",
   "version": "3.8.8"
  }
 },
 "nbformat": 4,
 "nbformat_minor": 5
}
