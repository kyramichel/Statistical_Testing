{
 "cells": [
  {
   "cell_type": "markdown",
   "metadata": {},
   "source": [
    "# More on A/B Testing \n",
    "\n",
    "One popular use of data from A/B tests is web optimization - desgining user experiments to understand users engagements to new online services, products or features.\n",
    "\n",
    "Another popular use of data from A/B tests is in advertising to test the effectiveness of advertising campaigns - designing experiments to test if certain actions can help/prevent the occurrence of an positive/adverse event.\n",
    "\n",
    "There are many job types that use data from A/B tests, as these statistical tools allow businesses to make user experiences more successful as a way to increase revenue and reduce risk.\n",
    "\n"
   ]
  },
  {
   "cell_type": "markdown",
   "metadata": {},
   "source": [
    "###  A Business Problem\n",
    "\n",
    "\n",
    "A company decides to create a new version of their webpage in order to increase the number of people signing for their services through their website - simple alternatives such as: changing the look of a single button on a webpage or different layouts and headlines, etc. \n",
    "\n",
    "To determine which version of the webpage is more effective they use A/B testing. \n",
    "\n",
    "The design experiment: The company shows 1,000 people the old webpage (group A) and to another 1,000 people the new webpage (group B). It uses randomzed selection and assignment into the two groups. For example, when someone visits their website the site sends them to one of the two  (A/B) webpages, and which one they are sent to is chosen at random.\n",
    "\n",
    "The observed difference between the two groups:\n"
   ]
  },
  {
   "cell_type": "code",
   "execution_count": 3,
   "metadata": {},
   "outputs": [
    {
     "data": {
      "text/html": [
       "<div>\n",
       "<style scoped>\n",
       "    .dataframe tbody tr th:only-of-type {\n",
       "        vertical-align: middle;\n",
       "    }\n",
       "\n",
       "    .dataframe tbody tr th {\n",
       "        vertical-align: top;\n",
       "    }\n",
       "\n",
       "    .dataframe thead th {\n",
       "        text-align: right;\n",
       "    }\n",
       "</style>\n",
       "<table border=\"1\" class=\"dataframe\">\n",
       "  <thead>\n",
       "    <tr style=\"text-align: right;\">\n",
       "      <th></th>\n",
       "      <th>group</th>\n",
       "      <th>total</th>\n",
       "      <th>converted</th>\n",
       "    </tr>\n",
       "  </thead>\n",
       "  <tbody>\n",
       "    <tr>\n",
       "      <th>0</th>\n",
       "      <td>A</td>\n",
       "      <td>1000</td>\n",
       "      <td>490</td>\n",
       "    </tr>\n",
       "    <tr>\n",
       "      <th>1</th>\n",
       "      <td>B</td>\n",
       "      <td>1000</td>\n",
       "      <td>510</td>\n",
       "    </tr>\n",
       "  </tbody>\n",
       "</table>\n",
       "</div>"
      ],
      "text/plain": [
       "  group  total  converted\n",
       "0     A   1000        490\n",
       "1     B   1000        510"
      ]
     },
     "execution_count": 3,
     "metadata": {},
     "output_type": "execute_result"
    }
   ],
   "source": [
    "df"
   ]
  },
  {
   "cell_type": "markdown",
   "metadata": {},
   "source": [
    "suggests that the new version (B) converts better than the current verion (A). \n",
    "\n",
    "\n",
    "\n",
    "To determine if the differences in signing up rates between A and B were statistically significant requires the use of statistical testing. I used simple controlled experiment. See code: https://github.com/kyramichel/Statistical_Testing/blob/master/A_B%20Testing.ipynb\n"
   ]
  },
  {
   "cell_type": "markdown",
   "metadata": {},
   "source": [
    "## In other words\n",
    "\n",
    "A/B testing  refers to the task of determining the best version A or B. That is, to decide if the new version of the webpage B increases signing up rates and should be launched. \n",
    "\n",
    "\n",
    "We have a sample of 2000 users, where 50% exposed to version A and 50% to version B. The spit was random, in this case 50/50.\n",
    "\n",
    "The data suggests that the new version (B) converts better than the current verion (A). This is an empirical claim that we want to test. \n"
   ]
  },
  {
   "cell_type": "markdown",
   "metadata": {},
   "source": [
    "## Statistical testing\n",
    "\n",
    "The inquiry is what is the probability that the observed difference in signup rate in this experiment is due to chance. This is null hypothesis **H0**\n"
   ]
  },
  {
   "cell_type": "markdown",
   "metadata": {},
   "source": [
    "### The test statistics \n",
    "\n",
    "reduces to simple counting.\n",
    "\n",
    "The number of ways to chose a sample of 1000 from a set of 2000 where oder doesn't matter and replacement aren't allowed is: comb(2000,1000)\n",
    "\n",
    "The observed pattern in signup corresponds to comb(1000, 490) * comb(1000,510) out of comb(2000,1000):"
   ]
  },
  {
   "cell_type": "code",
   "execution_count": 12,
   "metadata": {},
   "outputs": [],
   "source": [
    "from math import comb\n",
    "d= comb(2000, 1000)\n",
    "d1 =comb(1000, 490)\n",
    "d2 = comb(1000,510)"
   ]
  },
  {
   "cell_type": "code",
   "execution_count": 15,
   "metadata": {},
   "outputs": [
    {
     "data": {
      "text/plain": [
       "'2.048152e+600'"
      ]
     },
     "execution_count": 15,
     "metadata": {},
     "output_type": "execute_result"
    }
   ],
   "source": [
    "import decimal\n",
    "d = decimal.Decimal(d)\n",
    "format(d, '.6e')"
   ]
  },
  {
   "cell_type": "code",
   "execution_count": 16,
   "metadata": {},
   "outputs": [
    {
     "data": {
      "text/plain": [
       "'2.213346e+299'"
      ]
     },
     "execution_count": 16,
     "metadata": {},
     "output_type": "execute_result"
    }
   ],
   "source": [
    "format(d1, '.6e')\n"
   ]
  },
  {
   "cell_type": "code",
   "execution_count": 17,
   "metadata": {},
   "outputs": [
    {
     "data": {
      "text/plain": [
       "'2.213346e+299'"
      ]
     },
     "execution_count": 17,
     "metadata": {},
     "output_type": "execute_result"
    }
   ],
   "source": [
    "format(d2, '.6e')"
   ]
  },
  {
   "cell_type": "markdown",
   "metadata": {},
   "source": [
    "\n",
    "\n",
    "p = Pr(data | H0) = comb(1000, 490) * comb(1000,510) / comb(2000,1000):"
   ]
  },
  {
   "cell_type": "code",
   "execution_count": 20,
   "metadata": {},
   "outputs": [
    {
     "data": {
      "text/plain": [
       "'2.391864e-2'"
      ]
     },
     "execution_count": 20,
     "metadata": {},
     "output_type": "execute_result"
    }
   ],
   "source": [
    "p = d1*d2/d\n",
    "format(p, '.6e')"
   ]
  },
  {
   "cell_type": "markdown",
   "metadata": {},
   "source": [
    "## Summary\n",
    "\n",
    "Since this probability p < 5% means we reject H0 and infer that the experiment results i.e., observed difference between the two groups is a statistically significant result and we could go ahead with the new design.\n",
    "\n",
    "The signigficance level chosen is 5%. \n"
   ]
  },
  {
   "cell_type": "markdown",
   "metadata": {},
   "source": [
    "Note:\n",
    "    \n",
    "If we code \"success \" and \"failures\" in sign up as 0 and 1, the parameter of interest is a population proportion, even in fact it is also the population mean. \n",
    "\n",
    "If the simple random sampling is without replacement the covariance between the two samples is non-zero.\n",
    "\n",
    "See Analysis of variance (ANOVA): https://github.com/kyramichel/Statistical_Testing/blob/master/A_B%20Testing.ipynb\n"
   ]
  }
 ],
 "metadata": {
  "kernelspec": {
   "display_name": "Python 3",
   "language": "python",
   "name": "python3"
  },
  "language_info": {
   "codemirror_mode": {
    "name": "ipython",
    "version": 3
   },
   "file_extension": ".py",
   "mimetype": "text/x-python",
   "name": "python",
   "nbconvert_exporter": "python",
   "pygments_lexer": "ipython3",
   "version": "3.8.3"
  }
 },
 "nbformat": 4,
 "nbformat_minor": 2
}
